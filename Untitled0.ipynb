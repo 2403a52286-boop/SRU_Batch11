{
  "nbformat": 4,
  "nbformat_minor": 0,
  "metadata": {
    "colab": {
      "provenance": [],
      "authorship_tag": "ABX9TyN+V6qUymYY3CXPSapTNULe",
      "include_colab_link": true
    },
    "kernelspec": {
      "name": "python3",
      "display_name": "Python 3"
    },
    "language_info": {
      "name": "python"
    }
  },
  "cells": [
    {
      "cell_type": "markdown",
      "metadata": {
        "id": "view-in-github",
        "colab_type": "text"
      },
      "source": [
        "<a href=\"https://colab.research.google.com/github/2403a52286-boop/SRU_Batch11/blob/main/Untitled0.ipynb\" target=\"_parent\"><img src=\"https://colab.research.google.com/assets/colab-badge.svg\" alt=\"Open In Colab\"/></a>"
      ]
    },
    {
      "cell_type": "code",
      "execution_count": 1,
      "metadata": {
        "colab": {
          "base_uri": "https://localhost:8080/"
        },
        "id": "PyBjXXj5CeH2",
        "outputId": "123f213f-88b0-45f3-f9f1-85054298023c"
      },
      "outputs": [
        {
          "output_type": "stream",
          "name": "stdout",
          "text": [
            "hello world\n"
          ]
        }
      ],
      "source": [
        "print('hello world')"
      ]
    },
    {
      "cell_type": "code",
      "source": [
        "list=[1,2,3,4]\n",
        "print(list)"
      ],
      "metadata": {
        "colab": {
          "base_uri": "https://localhost:8080/"
        },
        "id": "CSagBc1iCzHf",
        "outputId": "ce4bfe54-5eaa-4dfd-a920-ab34f21cfaca"
      },
      "execution_count": 2,
      "outputs": [
        {
          "output_type": "stream",
          "name": "stdout",
          "text": [
            "[1, 2, 3, 4]\n"
          ]
        }
      ]
    },
    {
      "cell_type": "code",
      "source": [
        "tuple=(1,2,3,'hello','true')\n",
        "print(tuple)"
      ],
      "metadata": {
        "colab": {
          "base_uri": "https://localhost:8080/"
        },
        "id": "wWc56pUyC7iQ",
        "outputId": "739d2efb-a8fe-4003-962d-9e93094a0a56"
      },
      "execution_count": 3,
      "outputs": [
        {
          "output_type": "stream",
          "name": "stdout",
          "text": [
            "(1, 2, 3, 'hello', 'true')\n"
          ]
        }
      ]
    },
    {
      "cell_type": "code",
      "source": [
        "dict={'Name':'tula', 'Age':19 , 'City':'wgl'}\n",
        "print(dict)"
      ],
      "metadata": {
        "colab": {
          "base_uri": "https://localhost:8080/"
        },
        "id": "qErs31qnDKfu",
        "outputId": "62456f08-3e18-46ff-c472-9574e6f1d6ae"
      },
      "execution_count": 8,
      "outputs": [
        {
          "output_type": "stream",
          "name": "stdout",
          "text": [
            "{'Name': 'tula', 'Age': 19, 'City': 'wgl'}\n"
          ]
        }
      ]
    },
    {
      "cell_type": "code",
      "source": [
        "import pandas as pd\n",
        "data = {'Name':['Alice','Bob','charu'],\n",
        "        'Age':[25,90,23] ,\n",
        "        'city':['newyork','london','paris']}\n",
        "df = pd.DataFrame(data)\n",
        "print(df)\n"
      ],
      "metadata": {
        "colab": {
          "base_uri": "https://localhost:8080/"
        },
        "id": "O8jwT9-xEXnA",
        "outputId": "65c63612-1375-4cab-d9c9-263fcac21a70"
      },
      "execution_count": 14,
      "outputs": [
        {
          "output_type": "stream",
          "name": "stdout",
          "text": [
            "    Name  Age     city\n",
            "0  Alice   25  newyork\n",
            "1    Bob   90   london\n",
            "2  charu   23    paris\n"
          ]
        }
      ]
    },
    {
      "cell_type": "code",
      "source": [
        "import pandas as pd\n",
        "data1= {'Name':['rocky','ricky','tula','lucky','vicky','varun'],\n",
        "        'Age': [23,12,34,23,23,87],\n",
        "        'city': ['wgl','hnk','kazipet','mulugu','narsempet','london']}\n",
        "df=pd.DataFrame(data1)\n",
        "print(df)"
      ],
      "metadata": {
        "colab": {
          "base_uri": "https://localhost:8080/"
        },
        "id": "ZXuwtuQRICoN",
        "outputId": "9be87523-f435-4f70-d4ee-b29496f7ce67"
      },
      "execution_count": 16,
      "outputs": [
        {
          "output_type": "stream",
          "name": "stdout",
          "text": [
            "    Name  Age       city\n",
            "0  rocky   23        wgl\n",
            "1  ricky   12        hnk\n",
            "2   tula   34    kazipet\n",
            "3  lucky   23     mulugu\n",
            "4  vicky   23  narsempet\n",
            "5  varun   87     london\n"
          ]
        }
      ]
    },
    {
      "cell_type": "code",
      "source": [
        " df.to_csv('data.csv')\n",
        ""
      ],
      "metadata": {
        "id": "dFT6WF2dKwN7"
      },
      "execution_count": null,
      "outputs": []
    }
  ]
}