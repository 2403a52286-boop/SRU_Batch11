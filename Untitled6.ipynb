{
  "nbformat": 4,
  "nbformat_minor": 0,
  "metadata": {
    "colab": {
      "provenance": [],
      "authorship_tag": "ABX9TyPW016krNkaxBSnatoE5Efu",
      "include_colab_link": true
    },
    "kernelspec": {
      "name": "python3",
      "display_name": "Python 3"
    },
    "language_info": {
      "name": "python"
    }
  },
  "cells": [
    {
      "cell_type": "markdown",
      "metadata": {
        "id": "view-in-github",
        "colab_type": "text"
      },
      "source": [
        "<a href=\"https://colab.research.google.com/github/2403a52286-boop/SRU_Batch11/blob/main/Untitled6.ipynb\" target=\"_parent\"><img src=\"https://colab.research.google.com/assets/colab-badge.svg\" alt=\"Open In Colab\"/></a>"
      ]
    },
    {
      "cell_type": "code",
      "execution_count": 11,
      "metadata": {
        "colab": {
          "base_uri": "https://localhost:8080/"
        },
        "id": "NpjsycBmNkwv",
        "outputId": "01e2c0c5-14b6-493c-bbf2-7771a113823b"
      },
      "outputs": [
        {
          "output_type": "stream",
          "name": "stdout",
          "text": [
            "    Name   Age  Marks\n",
            "0   tula  20.0   78.0\n",
            "1  ricky  12.0   79.0\n",
            "2  vicky  23.0   85.0\n",
            "3  lucky   NaN   98.0\n",
            "4   tula  25.0    NaN\n",
            "5   None  34.0  100.0\n",
            "      Name   Age  Marks\n",
            "0     tula  20.0   78.0\n",
            "1    ricky  12.0   79.0\n",
            "2    vicky  23.0   85.0\n",
            "3    lucky  22.8   98.0\n",
            "4     tula  25.0   85.0\n",
            "5  Unknown  34.0  100.0\n",
            "      Name   Age  Marks\n",
            "0     tula  20.0   78.0\n",
            "1    ricky  12.0   79.0\n",
            "2    vicky  23.0   85.0\n",
            "3    lucky  22.8   98.0\n",
            "4     tula  25.0   85.0\n",
            "5  Unknown  34.0  100.0\n",
            "  std_Name   Age  Marks\n",
            "0     tula  20.0   78.0\n",
            "1    ricky  12.0   79.0\n",
            "2    vicky  23.0   85.0\n",
            "3    lucky  22.8   98.0\n",
            "4     tula  25.0   85.0\n",
            "5  Unknown  34.0  100.0\n",
            "  std_Name  Age  Marks\n",
            "0     tula   20   78.0\n",
            "1    ricky   12   79.0\n",
            "2    vicky   23   85.0\n",
            "3    lucky   22   98.0\n",
            "4     tula   25   85.0\n",
            "5  Unknown   34  100.0\n",
            "[0    False\n",
            "1    False\n",
            "2    False\n",
            "3     True\n",
            "4    False\n",
            "5     True\n",
            "Name: Marks, dtype: bool]\n",
            "std_Name\n",
            "Unknown    100.0\n",
            "lucky       98.0\n",
            "ricky       79.0\n",
            "tula        81.5\n",
            "vicky       85.0\n",
            "Name: Marks, dtype: float64\n"
          ]
        }
      ],
      "source": [
        "import pandas as pd\n",
        "import numpy as np\n",
        "data={ \"Name\":['tula','ricky','vicky','lucky','tula',None],\n",
        "      \"Age\":[20,12,23,None,25,34],\n",
        "       \"Marks\":[78,79,85,98,None,100]}\n",
        "df=pd.DataFrame(data)\n",
        "print(df)\n",
        "#handling missing values\n",
        "df['Name']=df['Name'].fillna('Unknown') # Fill missing names with 'Unknown'\n",
        "df['Age']=df['Age'].fillna(df['Age'].mean()) # Fill missing ages with the mean age\n",
        "df['Marks']=df['Marks'].fillna(df['Marks'].median()) # Fill missing marks with the median mark\n",
        "print(df)\n",
        "\n",
        "#remove the duplicates\n",
        "df=df.drop_duplicates()\n",
        "print(df)\n",
        "\n",
        "#rename\n",
        "df=df.rename(columns={'Name':'std_Name'})\n",
        "print(df)\n",
        "\n",
        "#change data type\n",
        "df['Age']=df['Age'].astype(int)\n",
        "print(df)\n",
        "\n",
        "#filtered data\n",
        "df_filtered=[df['Marks']>90]\n",
        "print(df_filtered)\n",
        "\n",
        "df_group=df.groupby('std_Name')['Marks'].mean()\n",
        "print(df_group)\n",
        "\n"
      ]
    }
  ]
}